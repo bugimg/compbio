{
 "cells": [
  {
   "cell_type": "markdown",
   "metadata": {},
   "source": [
    "#### Bimodal cell population growth model\n",
    "Based on the logistic growth model \n",
    "\n",
    "$\\frac{\\ dX}{\\ dt} = rX(1-\\frac{\\ X}{\\ K}) - \\gamma X $ \\\n",
    "\\\n",
    "**where**, \\\n",
    "$\\frac{\\ dX}{\\ dt}$ - rate of change of the population \\\n",
    "$r$ - growth constant \\\n",
    "$X$ - number of individuals in the population \\\n",
    "$K$ - carrying capacity \\\n",
    "$\\gamma$ - death rate\n",
    "\n",
    "**For Gillesspie:** \\\n",
    "$X$ &rarr; $X + 1$ at a rate $rX$\\\n",
    "$X$ &rarr; $X - 1$ at a rate $\\frac{\\ rX^2}{\\ K} + \\gamma X $"
   ]
  },
  {
   "cell_type": "code",
   "execution_count": 6,
   "metadata": {},
   "outputs": [
    {
     "data": {
      "text/plain": [
       "<function matplotlib.pyplot.show(close=None, block=None)>"
      ]
     },
     "execution_count": 6,
     "metadata": {},
     "output_type": "execute_result"
    },
    {
     "data": {
      "image/png": "[encoded data removed]",
      "text/plain": [
       "<Figure size 640x480 with 1 Axes>"
      ]
     },
     "metadata": {},
     "output_type": "display_data"
    }
   ],
   "source": [
    "import numpy as np \n",
    "import matplotlib.pyplot as plt\n",
    "import random\n",
    "\n",
    "def sim(X, pars, t_end):\n",
    "    \n",
    "    r = pars[0]\n",
    "    K = pars[1]\n",
    "    gamma = pars[2]\n",
    "\n",
    "    t = [0]\n",
    "\n",
    "    while t[-1] < t_end and X[-1] > 0:\n",
    "\n",
    "        currentX = X[-1]\n",
    "        rates = [r*currentX, r*currentX**2/K + gamma*currentX]\n",
    "        ratesum = sum(rates)\n",
    "\n",
    "        tau = np.random.exponential(scale=1/ratesum)\n",
    "\n",
    "        t.append(t[-1] + tau)\n",
    "\n",
    "        rand = random.uniform(0,1)\n",
    "\n",
    "        if rand * ratesum <= rates[0]:\n",
    "            X.append(X[-1] + 1)\n",
    "        else:\n",
    "            X.append(X[-1] - 1)\n",
    "            \n",
    "    return([t,X])\n",
    "\n",
    "cell_counts = []\n",
    "\n",
    "for i in range(1000):\n",
    "    X_0 = [1]\n",
    "    pars = [1, 100, 0.05]  # r, K, gamma\n",
    "    t_end = 12\n",
    "\n",
    "    [t_out, X_out] = sim(X_0, pars, t_end)\n",
    "    \n",
    "    cell_counts.append(X_out[-1])\n",
    "\n",
    "plt.hist(cell_counts, bins = np.max(cell_counts)+1)  #distribution of simulation results (final X values) \n",
    "plt.show\n",
    "\n",
    "\n",
    "\n"
   ]
  }
 ],
 "metadata": {
  "kernelspec": {
   "display_name": "Python 3",
   "language": "python",
   "name": "python3"
  },
  "language_info": {
   "codemirror_mode": {
    "name": "ipython",
    "version": 3
   },
   "file_extension": ".py",
   "mimetype": "text/x-python",
   "name": "python",
   "nbconvert_exporter": "python",
   "pygments_lexer": "ipython3",
   "version": "3.11.3"
  },
  "orig_nbformat": 4
 },
 "nbformat": 4,
 "nbformat_minor": 2
}
