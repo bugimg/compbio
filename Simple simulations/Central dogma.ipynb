{
 "cells": [
  {
   "cell_type": "markdown",
   "metadata": {},
   "source": [
    "#### Central dogma\n",
    "$\\frac{\\ dm}{\\ dt} = k_m - \\gamma_m m$ \\\n",
    "\\\n",
    "$\\frac{\\ dp}{\\ dt} = k_p m - \\gamma_p p$\\\n",
    "\\\n",
    "**where**, \\\n",
    "$\\frac{\\ dm}{\\ dt}$ - rate of change of mRNA \\\n",
    "$\\frac{\\ dp}{\\ dt}$ - rate of change of protein \\\n",
    "$k_m$ - rate of synthesis of mRNA \\\n",
    "$k_p$ - rate of synthesis of protein \\\n",
    "$\\gamma_m$ - rate of degradation of mRNA \\\n",
    "$\\gamma_p$ - rate of degradation of protein \\\n",
    "$m$ - concentration of mRNA \\\n",
    "$p$ - concentration of protein\n"
   ]
  },
  {
   "cell_type": "code",
   "execution_count": 15,
   "metadata": {},
   "outputs": [
    {
     "data": {
      "image/png": "[encoded data removed]",
      "text/plain": [
       "<Figure size 432x288 with 1 Axes>"
      ]
     },
     "metadata": {
      "needs_background": "light"
     },
     "output_type": "display_data"
    }
   ],
   "source": [
    "import numpy as np\n",
    "import matplotlib.pyplot \n",
    "matplotlib.use('tkagg')\n",
    "import matplotlib.pyplot as plt\n",
    "from scipy.integrate import odeint\n",
    "\n",
    "y0 = [0,0] #0 mRNA, 0 protein\n",
    "\n",
    "t = np.linspace(0,200,num=100)\n",
    "\n",
    "k_m = 0.2\n",
    "gamma_m = 0.05\n",
    "\n",
    "k_p = 0.4\n",
    "gamma_p = 0.1\n",
    "\n",
    "par = [k_m, gamma_m, k_p, gamma_p] # parameters for ODE solver\n",
    "\n",
    "def sim(vars, t, par):\n",
    "    m = vars[0]\n",
    "    p = vars[1]\n",
    "\n",
    "    k_m = par[0]\n",
    "    gamma_m = par[1]\n",
    "    k_p = par[2]\n",
    "    gamma_p = par[3]\n",
    "\n",
    "    dmdt = k_m - gamma_m*m\n",
    "    dpdt = k_p*m - gamma_p*p\n",
    "\n",
    "    return([dmdt, dpdt])\n",
    "\n",
    "y = odeint(sim, y0, t, args = (par,))\n",
    "\n",
    "f,graph = plt.subplots(1)\n",
    "\n",
    "mrna, = graph.plot(t, y[:, 0], 'b', label=\"mRNA\")\n",
    "prot, = graph.plot(t, y[:, 1], 'r', label=\"Protein\")\n",
    "\n",
    "graph.set_xlabel('Time')\n",
    "graph.set_ylabel('Abundance')\n",
    "\n",
    "graph.legend(handles=[mrna,prot])\n",
    "\n",
    "plt.show()"
   ]
  }
 ],
 "metadata": {
  "kernelspec": {
   "display_name": "Python 3",
   "language": "python",
   "name": "python3"
  },
  "language_info": {
   "codemirror_mode": {
    "name": "ipython",
    "version": 3
   },
   "file_extension": ".py",
   "mimetype": "text/x-python",
   "name": "python",
   "nbconvert_exporter": "python",
   "pygments_lexer": "ipython3",
   "version": "3.10.2"
  },
  "orig_nbformat": 4,
  "vscode": {
   "interpreter": {
    "hash": "fb4569285eef3a3450cb62085a5b1e0da4bce0af555edc33dcf29baf3acc1368"
   }
  }
 },
 "nbformat": 4,
 "nbformat_minor": 2
}
