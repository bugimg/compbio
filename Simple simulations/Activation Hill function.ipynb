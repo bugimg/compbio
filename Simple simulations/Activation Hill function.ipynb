{
 "cells": [
  {
   "cell_type": "markdown",
   "metadata": {},
   "source": [
    "#### Activation Hill function\n",
    "*Gene 1 product induces the expression of gene 2* \\\n",
    "\\\n",
    "$\\frac{\\ dG_1}{\\ dt} = k_1 - \\gamma_1 G_1$ \\\n",
    "\\\n",
    "$\\frac{\\ dG_2}{\\ dt} = [\\frac{\\ G_1^n}{\\ c^n + G_1^n}]k_2 - \\gamma_2 G_2$\\\n",
    "\\\n",
    "**where**, \\\n",
    "$\\frac{\\ dG_1}{\\ dt}$ - rate of change gene 1 product \\\n",
    "$\\frac{\\ dG_2}{\\ dt}$ - rate of change gene 2 product \\\n",
    "$k_1$ - rate of synthesis of protein 1 \\\n",
    "$k_2$ - rate of synthesis of protein 2 \\\n",
    "$\\gamma_1$ - rate of degradation of protein 1 \\\n",
    "$\\gamma_2$ - rate of degradation of protein 2 \\\n",
    "$G1$ - concentration of protein 1 \\\n",
    "$G2$ - concentration of protein 2 \\\n",
    "$c$ - activation coefficient \\\n",
    "$n$ - Hill coefficient"
   ]
  },
  {
   "cell_type": "code",
   "execution_count": 5,
   "metadata": {},
   "outputs": [
    {
     "data": {
      "image/png": "[encoded data removed]",
      "text/plain": [
       "<Figure size 432x288 with 1 Axes>"
      ]
     },
     "metadata": {
      "needs_background": "light"
     },
     "output_type": "display_data"
    }
   ],
   "source": [
    "import numpy as np\n",
    "import matplotlib.pyplot as plt\n",
    "from scipy.integrate import odeint\n",
    "\n",
    "y0 = [0,0] #0 protein1, protein2\n",
    "\n",
    "t = np.linspace(0,200,num=100)\n",
    "\n",
    "k_1 = 0.5\n",
    "gamma_1 = 0.1\n",
    "k_2 = 0.5\n",
    "gamma_2 = 0.05\n",
    "n = 5\n",
    "c = 5\n",
    "\n",
    "\n",
    "par = [k_1, gamma_1, k_2, gamma_2, n, c] # parameters for ODE solver\n",
    "\n",
    "def sim(vars, t, par):\n",
    "    G1 = vars[0]\n",
    "    G2 = vars[1]\n",
    "\n",
    "    k_1 = par[0]\n",
    "    gamma_1 = par[1]\n",
    "    k_2 = par[2]\n",
    "    gamma_2 = par[3]\n",
    "    n = par[4]\n",
    "    c = par[5]\n",
    "\n",
    "    dG1dt = k_1 - gamma_1*G1\n",
    "    dG2dt = k_2*(G1**n/(c**n + G1**n)) - gamma_2*G2\n",
    "\n",
    "    return ([dG1dt, dG2dt])\n",
    "\n",
    "y = odeint(sim, y0, t, args = (par,))\n",
    "\n",
    "f,graph = plt.subplots(1)\n",
    "\n",
    "g1, = graph.plot(t, y[:, 0], 'b', label=\"Protein 1\")\n",
    "g2, = graph.plot(t, y[:, 1], 'r', label=\"Protein 2\")\n",
    "\n",
    "graph.set_xlabel('Time')\n",
    "graph.set_ylabel('Abundance')\n",
    "\n",
    "graph.legend(handles=[g1,g2])\n",
    "\n",
    "plt.show()"
   ]
  }
 ],
 "metadata": {
  "kernelspec": {
   "display_name": "Python 3",
   "language": "python",
   "name": "python3"
  },
  "language_info": {
   "codemirror_mode": {
    "name": "ipython",
    "version": 3
   },
   "file_extension": ".py",
   "mimetype": "text/x-python",
   "name": "python",
   "nbconvert_exporter": "python",
   "pygments_lexer": "ipython3",
   "version": "3.10.2"
  },
  "orig_nbformat": 4
 },
 "nbformat": 4,
 "nbformat_minor": 2
}
